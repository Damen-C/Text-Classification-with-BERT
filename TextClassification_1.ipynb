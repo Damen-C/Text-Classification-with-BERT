{
 "cells": [
  {
   "cell_type": "code",
   "execution_count": null,
   "id": "76a8a036-26cb-47bf-86bf-15b86846098b",
   "metadata": {},
   "outputs": [],
   "source": [
    "pip install transformers\n",
    "from transformers import AutoTokenizer\n",
    "tokenizer= AutoTokenizer.from_pretrained('cl-tohoku/bert-base-japanese-v2')"
   ]
  },
  {
   "cell_type": "code",
   "execution_count": null,
   "id": "82f112a9-5c6f-450a-93d6-f6f647192781",
   "metadata": {},
   "outputs": [],
   "source": [
    "example_text = '今日は一日サッカーをしました'\n",
    "##('I played soccer for the whole day')##\n",
    "BERT_input = tokenizer(example_text,padding='max_length', max_length = 20, \n",
    "                       truncation=True, return_tensors=\"pt\")\n",
    "\n",
    "\n",
    "print(BERT_input['input_ids'])\n",
    "print(BERT_input['token_type_ids'])\n",
    "print(BERT_input['attention_mask'])"
   ]
  },
  {
   "cell_type": "code",
   "execution_count": null,
   "id": "0e3c7951-96f9-407d-ba33-d0dac605b0ae",
   "metadata": {},
   "outputs": [],
   "source": [
    "example_text = tokenizer.decode(bert_input.input_ids[0])\n",
    "print(example_text)"
   ]
  },
  {
   "cell_type": "code",
   "execution_count": null,
   "id": "cb0128fd-93b2-4945-8d42-dcae984e026b",
   "metadata": {},
   "outputs": [],
   "source": []
  }
 ],
 "metadata": {
  "kernelspec": {
   "display_name": "Python 3 (ipykernel)",
   "language": "python",
   "name": "python3"
  },
  "language_info": {
   "codemirror_mode": {
    "name": "ipython",
    "version": 3
   },
   "file_extension": ".py",
   "mimetype": "text/x-python",
   "name": "python",
   "nbconvert_exporter": "python",
   "pygments_lexer": "ipython3",
   "version": "3.8.13"
  }
 },
 "nbformat": 4,
 "nbformat_minor": 5
}
