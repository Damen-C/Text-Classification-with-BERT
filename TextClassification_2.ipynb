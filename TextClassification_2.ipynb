{
 "cells": [
  {
   "cell_type": "code",
   "execution_count": null,
   "id": "f9bce444-9883-46b6-abaa-9b8df66a95ea",
   "metadata": {},
   "outputs": [],
   "source": [
    "import pandas as pd\n",
    "df = pd.read_csv(\"spam.csv\")"
   ]
  },
  {
   "cell_type": "code",
   "execution_count": null,
   "id": "7279b2b0-0e8a-4610-9764-d85f0e6a1c5d",
   "metadata": {},
   "outputs": [],
   "source": [
    "# Use chardet to know the character encoding \n",
    "import chardet\n",
    "with open(\"spam.csv\", 'rb') as rawdata:\n",
    "    result = chardet.detect(rawdata.read(100000))\n",
    "result"
   ]
  },
  {
   "cell_type": "code",
   "execution_count": null,
   "id": "335a0f96-3c50-43de-9c2b-bb21029a8d9f",
   "metadata": {},
   "outputs": [],
   "source": [
    "df = pd.read_csv(\"spam.csv\", encoding = 'Windows-1252')\n",
    "df.head()"
   ]
  },
  {
   "cell_type": "code",
   "execution_count": null,
   "id": "038707d3-3f02-41ea-a28d-8ecd5986136a",
   "metadata": {},
   "outputs": [],
   "source": [
    "df = df.loc[:, ['v1', 'v2']]\n",
    "df = df.rename(columns={'v1': 'Category', 'v2': 'Message'})\n",
    "df.head()"
   ]
  },
  {
   "cell_type": "code",
   "execution_count": null,
   "id": "2fe5fe45-1773-4471-a039-2d51fc48fd6e",
   "metadata": {},
   "outputs": [],
   "source": [
    "df_spam = df[df['Category']=='spam']\n",
    "df_ham = df[df['Category']=='ham']\n",
    "df_ham_downsampled = df_ham.sample(df_spam.shape[0])\n",
    "df_balanced = pd.concat([df_ham_downsampled, df_spam])\n",
    "df_balanced['Category'].value_counts()"
   ]
  },
  {
   "cell_type": "code",
   "execution_count": null,
   "id": "85d61d90-da06-494a-960a-601b670c091e",
   "metadata": {},
   "outputs": [],
   "source": [
    "df_balanced['Label']=df_balanced['Category'].apply(lambda x: 1 if x=='spam' else 0)\n",
    "df_balanced = df_balanced.reset_index(drop=True)\n",
    "\n",
    "display(df_balanced)"
   ]
  },
  {
   "cell_type": "code",
   "execution_count": null,
   "id": "dd1b3418-5ed5-4eb9-ba22-b1b9492f766e",
   "metadata": {},
   "outputs": [],
   "source": [
    "from sklearn.model_selection import train_test_split\n",
    "X_train, X_val, y_train, y_val = train_test_split(df_balanced['Message'],df_balanced['Label'], stratify=df_balanced['Label'], test_size=.2)\n",
    "\n",
    "X_train.head()"
   ]
  },
  {
   "cell_type": "code",
   "execution_count": null,
   "id": "c7341996-618c-41b3-ad5a-46cc6cd7308e",
   "metadata": {},
   "outputs": [],
   "source": []
  }
 ],
 "metadata": {
  "kernelspec": {
   "display_name": "Python 3 (ipykernel)",
   "language": "python",
   "name": "python3"
  },
  "language_info": {
   "codemirror_mode": {
    "name": "ipython",
    "version": 3
   },
   "file_extension": ".py",
   "mimetype": "text/x-python",
   "name": "python",
   "nbconvert_exporter": "python",
   "pygments_lexer": "ipython3",
   "version": "3.8.13"
  }
 },
 "nbformat": 4,
 "nbformat_minor": 5
}
